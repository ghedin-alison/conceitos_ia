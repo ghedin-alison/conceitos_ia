{
 "cells": [
  {
   "cell_type": "code",
   "execution_count": 2,
   "metadata": {},
   "outputs": [],
   "source": [
    "import pandas as pd"
   ]
  },
  {
   "cell_type": "markdown",
   "metadata": {},
   "source": [
    "## Exercício 7\n",
    "Uma loja de utensílios vende em média 320 peças por dia, com desvio de 40.</br> \n",
    "Após exaustiva campanha publicitária a administração pede para calcular a “nova média” de vendas para avaliar se ocorreu alguma melhora.</br> \n",
    "Sabendo-se que o resultado foi de 370 peças vendidas na campanha, você pode dizer que a campanha foi um sucesso com α=5%?</br>  \n",
    "Quais são as hipóteses nula e alternativa deste teste e sua conclusão.  E sua conclusão sobre o sucesso ou não da campanha publicitária.</br>"
   ]
  },
  {
   "cell_type": "code",
   "execution_count": 1,
   "metadata": {},
   "outputs": [],
   "source": [
    "media_diaria = 320\n",
    "sd = 40\n",
    "nova_media = 370\n",
    "alpha = 0.05\n"
   ]
  },
  {
   "cell_type": "markdown",
   "metadata": {},
   "source": [
    "## Exercício 6 \n",
    "Salários pagos na empresa XYZ (2o. semestre de 2009)</br>\n"
   ]
  },
  {
   "cell_type": "code",
   "execution_count": 7,
   "metadata": {},
   "outputs": [
    {
     "data": {
      "text/html": [
       "<div>\n",
       "<style scoped>\n",
       "    .dataframe tbody tr th:only-of-type {\n",
       "        vertical-align: middle;\n",
       "    }\n",
       "\n",
       "    .dataframe tbody tr th {\n",
       "        vertical-align: top;\n",
       "    }\n",
       "\n",
       "    .dataframe thead th {\n",
       "        text-align: right;\n",
       "    }\n",
       "</style>\n",
       "<table border=\"1\" class=\"dataframe\">\n",
       "  <thead>\n",
       "    <tr style=\"text-align: right;\">\n",
       "      <th></th>\n",
       "      <th>Mes/Ano</th>\n",
       "      <th>Número de Empregados</th>\n",
       "      <th>Salários Pagos</th>\n",
       "    </tr>\n",
       "  </thead>\n",
       "  <tbody>\n",
       "    <tr>\n",
       "      <th>0</th>\n",
       "      <td>Julho/09</td>\n",
       "      <td>57</td>\n",
       "      <td>30127</td>\n",
       "    </tr>\n",
       "    <tr>\n",
       "      <th>1</th>\n",
       "      <td>Agosto/09</td>\n",
       "      <td>61</td>\n",
       "      <td>32893</td>\n",
       "    </tr>\n",
       "    <tr>\n",
       "      <th>2</th>\n",
       "      <td>Setembro/09</td>\n",
       "      <td>58</td>\n",
       "      <td>31041</td>\n",
       "    </tr>\n",
       "    <tr>\n",
       "      <th>3</th>\n",
       "      <td>Outubro/09</td>\n",
       "      <td>55</td>\n",
       "      <td>29412</td>\n",
       "    </tr>\n",
       "    <tr>\n",
       "      <th>4</th>\n",
       "      <td>Novembro/09</td>\n",
       "      <td>66</td>\n",
       "      <td>35523</td>\n",
       "    </tr>\n",
       "    <tr>\n",
       "      <th>5</th>\n",
       "      <td>Dezembro/09</td>\n",
       "      <td>75</td>\n",
       "      <td>40080</td>\n",
       "    </tr>\n",
       "  </tbody>\n",
       "</table>\n",
       "</div>"
      ],
      "text/plain": [
       "       Mes/Ano  Número de Empregados  Salários Pagos\n",
       "0     Julho/09                    57           30127\n",
       "1    Agosto/09                    61           32893\n",
       "2  Setembro/09                    58           31041\n",
       "3   Outubro/09                    55           29412\n",
       "4  Novembro/09                    66           35523\n",
       "5  Dezembro/09                    75           40080"
      ]
     },
     "execution_count": 7,
     "metadata": {},
     "output_type": "execute_result"
    }
   ],
   "source": [
    "\n",
    "data = {\"Mes/Ano\": [\"Julho/09\", \"Agosto/09\", \"Setembro/09\", \"Outubro/09\", \"Novembro/09\", \"Dezembro/09\"],\n",
    "        \"Número de Empregados\": [57, 61, 58, 55, 66, 75],\n",
    "        \"Salários Pagos\": [30127, 32893, 31041, 29412, 35523, 40080]\n",
    "}\n",
    "\n",
    "df = pd.DataFrame(data, index=None)        \n",
    "df"
   ]
  },
  {
   "cell_type": "code",
   "execution_count": 8,
   "metadata": {},
   "outputs": [
    {
     "data": {
      "text/plain": [
       "Index(['Mes/Ano', 'Número de Empregados', 'Salários Pagos'], dtype='object')"
      ]
     },
     "execution_count": 8,
     "metadata": {},
     "output_type": "execute_result"
    }
   ],
   "source": [
    "df.columns"
   ]
  },
  {
   "cell_type": "code",
   "execution_count": 10,
   "metadata": {},
   "outputs": [],
   "source": [
    "df.rename(columns = {'Mes/Ano': 'mes_ano', \n",
    "                              'Número de Empregados': 'nr_empregados', \n",
    "                              'Salários Pagos': 'salario_pago'\n",
    "                                }, \n",
    "                    inplace = True)"
   ]
  },
  {
   "cell_type": "code",
   "execution_count": 11,
   "metadata": {},
   "outputs": [],
   "source": [
    "df['media'] = df.salario_pago / df.nr_empregados"
   ]
  },
  {
   "cell_type": "code",
   "execution_count": 12,
   "metadata": {},
   "outputs": [
    {
     "data": {
      "text/html": [
       "<div>\n",
       "<style scoped>\n",
       "    .dataframe tbody tr th:only-of-type {\n",
       "        vertical-align: middle;\n",
       "    }\n",
       "\n",
       "    .dataframe tbody tr th {\n",
       "        vertical-align: top;\n",
       "    }\n",
       "\n",
       "    .dataframe thead th {\n",
       "        text-align: right;\n",
       "    }\n",
       "</style>\n",
       "<table border=\"1\" class=\"dataframe\">\n",
       "  <thead>\n",
       "    <tr style=\"text-align: right;\">\n",
       "      <th></th>\n",
       "      <th>mes_ano</th>\n",
       "      <th>nr_empregados</th>\n",
       "      <th>salario_pago</th>\n",
       "      <th>media</th>\n",
       "    </tr>\n",
       "  </thead>\n",
       "  <tbody>\n",
       "    <tr>\n",
       "      <th>0</th>\n",
       "      <td>Julho/09</td>\n",
       "      <td>57</td>\n",
       "      <td>30127</td>\n",
       "      <td>528.543860</td>\n",
       "    </tr>\n",
       "    <tr>\n",
       "      <th>1</th>\n",
       "      <td>Agosto/09</td>\n",
       "      <td>61</td>\n",
       "      <td>32893</td>\n",
       "      <td>539.229508</td>\n",
       "    </tr>\n",
       "    <tr>\n",
       "      <th>2</th>\n",
       "      <td>Setembro/09</td>\n",
       "      <td>58</td>\n",
       "      <td>31041</td>\n",
       "      <td>535.189655</td>\n",
       "    </tr>\n",
       "    <tr>\n",
       "      <th>3</th>\n",
       "      <td>Outubro/09</td>\n",
       "      <td>55</td>\n",
       "      <td>29412</td>\n",
       "      <td>534.763636</td>\n",
       "    </tr>\n",
       "    <tr>\n",
       "      <th>4</th>\n",
       "      <td>Novembro/09</td>\n",
       "      <td>66</td>\n",
       "      <td>35523</td>\n",
       "      <td>538.227273</td>\n",
       "    </tr>\n",
       "    <tr>\n",
       "      <th>5</th>\n",
       "      <td>Dezembro/09</td>\n",
       "      <td>75</td>\n",
       "      <td>40080</td>\n",
       "      <td>534.400000</td>\n",
       "    </tr>\n",
       "  </tbody>\n",
       "</table>\n",
       "</div>"
      ],
      "text/plain": [
       "       mes_ano  nr_empregados  salario_pago       media\n",
       "0     Julho/09             57         30127  528.543860\n",
       "1    Agosto/09             61         32893  539.229508\n",
       "2  Setembro/09             58         31041  535.189655\n",
       "3   Outubro/09             55         29412  534.763636\n",
       "4  Novembro/09             66         35523  538.227273\n",
       "5  Dezembro/09             75         40080  534.400000"
      ]
     },
     "execution_count": 12,
     "metadata": {},
     "output_type": "execute_result"
    }
   ],
   "source": [
    "df\n",
    "# verificar a variância\n"
   ]
  },
  {
   "cell_type": "markdown",
   "metadata": {},
   "source": [
    "## Exercicio 1\n",
    "Escolha a melhor resposta a questão:</br>\n",
    "\n",
    "#### a) Selecione a opção que lista as variáveis apenas quantitativas contínuas.</br>\n",
    "    (  ) a temperatura do corpo, o número de crianças, o sexo, a área de um campo de futebol\n",
    "    ( X) idade, a temperatura corporal, o consumo de combustível, a renda\n",
    "    (  ) número de filhos, sexo, consumo de combustível, a renda\n",
    "    (  ) gênero, consumo de combustível, área de um campo de futebol, renda\n",
    "\n",
    "#### b) Separe as variáveis qualitativas das quantitativas do item a):</br>\n",
    "    - Qualitativas:\n",
    "        sexo, genero\n",
    "    - Quantitativas:\n",
    "        - continuas:\n",
    "            Temperatura do corpo, área de um campo de futebol, idade, consumo de combustivel, renda\n",
    "         -discretas:\n",
    "            número de crianças(filhos)"
   ]
  },
  {
   "cell_type": "markdown",
   "metadata": {},
   "source": [
    "## Exercício 2\n",
    "    (a) Média\n",
    "    (b) Erro padrão\n",
    "    (c) Mediana\n",
    "    (d) Moda\n",
    "    (e) Desvio padrão\n",
    "    (f) Variância da amostra\n",
    "    (g) Curtose\n",
    "    (h) Assimetria\n",
    "    (i) Amplitude\n",
    "    (j) Mínimo\n",
    "    (k) Máximo\n",
    "    (l) Soma\n",
    "    (m) Contagem\n",
    "\n",
    "\n",
    "    (g) Medida de dispersão que caracteriza o pico ou \"achatamento\" da curva da função de distribuição de probabilidade\n",
    "    (k) É o maior valor de um conjunto de dados.\n",
    "    (j) É o menor valor de um conjunto de dados.\n",
    "    (a) Valor numérico que separa a metade superior de uma amostra de dados, uma população ou uma distribuição de probabilidade, a partir da metade inferior.\n",
    "    (d) Valor que detém o maior número de observações, ou seja, o valor ou valores mais frequentes, ou ainda \"o valor que ocorre com maior frequência num conjunto de dados, isto é, o valor mais comum\n",
    "    (b) Medida de variabilidade da média amostral.\n",
    "    (i) Medida de dispersão. É a diferença entre o máximo e o mínimo.\n",
    "    (c) Valor que aponta para onde mais se concentram os dados de uma distribuição. Pode ser considerada o ponto de equilíbrio das frequências, num histograma.\n",
    "    (e) Medida que se obtém somando os quadrados dos desvios dos dados relativamente à média, e dividindo pelo número de dados menos um. Representa-se por s2.\n",
    "    (f) É a medida mais comum da dispersão estatística. Ele mostra a quanto de variação ou dispersão em relação à média.\n",
    "    (l) Conjunto constituído pela reunião de diversos subconjuntos; total, conjunto, somatório.\n",
    "    (h) Grau de desvio de afastamento da simetria de uma distribuição, pode ser positiva para distribuições a direita e negativa para a esquerda. Para distribuições simetricas seu valor é zero.\n",
    "    (m ) Quantidade de registros.\n"
   ]
  },
  {
   "cell_type": "markdown",
   "metadata": {},
   "source": []
  }
 ],
 "metadata": {
  "kernelspec": {
   "display_name": "Python 3.8.10 ('venv': venv)",
   "language": "python",
   "name": "python3"
  },
  "language_info": {
   "codemirror_mode": {
    "name": "ipython",
    "version": 3
   },
   "file_extension": ".py",
   "mimetype": "text/x-python",
   "name": "python",
   "nbconvert_exporter": "python",
   "pygments_lexer": "ipython3",
   "version": "3.8.10"
  },
  "orig_nbformat": 4,
  "vscode": {
   "interpreter": {
    "hash": "d5fe847d95f92cd994739f56747143923054ce23e745ebfc8c5012f59938594b"
   }
  }
 },
 "nbformat": 4,
 "nbformat_minor": 2
}
