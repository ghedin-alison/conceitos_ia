{
 "cells": [
  {
   "cell_type": "code",
   "execution_count": 175,
   "metadata": {},
   "outputs": [],
   "source": [
    "import pandas as pd\n",
    "import seaborn as sb\n",
    "import numpy as np"
   ]
  },
  {
   "cell_type": "markdown",
   "metadata": {},
   "source": [
    "## Exercicio 1\n",
    "Escolha a melhor resposta a questão:</br>\n",
    "\n",
    "#### a) Selecione a opção que lista as variáveis apenas quantitativas contínuas.</br>\n",
    "    (  ) a temperatura do corpo, o número de crianças, o sexo, a área de um campo de futebol\n",
    "    ( X) idade, a temperatura corporal, o consumo de combustível, a renda\n",
    "    (  ) número de filhos, sexo, consumo de combustível, a renda\n",
    "    (  ) gênero, consumo de combustível, área de um campo de futebol, renda\n",
    "\n",
    "#### b) Separe as variáveis qualitativas das quantitativas do item a):</br>\n",
    "    - Qualitativas:\n",
    "        sexo, genero\n",
    "    - Quantitativas:\n",
    "        - continuas:\n",
    "            Temperatura do corpo, área de um campo de futebol, idade, consumo de combustivel, renda\n",
    "         -discretas:\n",
    "            número de crianças(filhos)"
   ]
  },
  {
   "cell_type": "markdown",
   "metadata": {},
   "source": [
    "## Exercício 2\n",
    "    (a) Média\n",
    "    (b) Erro padrão\n",
    "    (c) Mediana\n",
    "    (d) Moda\n",
    "    (e) Desvio padrão\n",
    "    (f) Variância da amostra\n",
    "    (g) Curtose\n",
    "    (h) Assimetria\n",
    "    (i) Amplitude\n",
    "    (j) Mínimo\n",
    "    (k) Máximo\n",
    "    (l) Soma\n",
    "    (m) Contagem\n",
    "\n",
    "\n",
    "    (g) Medida de dispersão que caracteriza o pico ou \"achatamento\" da curva da função de distribuição de probabilidade\n",
    "    (k) É o maior valor de um conjunto de dados.\n",
    "    (j) É o menor valor de um conjunto de dados.\n",
    "    (a) Valor numérico que separa a metade superior de uma amostra de dados, uma população ou uma distribuição de probabilidade, a partir da metade inferior.\n",
    "    (d) Valor que detém o maior número de observações, ou seja, o valor ou valores mais frequentes, ou ainda \"o valor que ocorre com maior frequência num conjunto de dados, isto é, o valor mais comum\n",
    "    (b) Medida de variabilidade da média amostral.\n",
    "    (i) Medida de dispersão. É a diferença entre o máximo e o mínimo.\n",
    "    (c) Valor que aponta para onde mais se concentram os dados de uma distribuição. Pode ser considerada o ponto de equilíbrio das frequências, num histograma.\n",
    "    (e) Medida que se obtém somando os quadrados dos desvios dos dados relativamente à média, e dividindo pelo número de dados menos um. Representa-se por s2.\n",
    "    (f) É a medida mais comum da dispersão estatística. Ele mostra a quanto de variação ou dispersão em relação à média.\n",
    "    (l) Conjunto constituído pela reunião de diversos subconjuntos; total, conjunto, somatório.\n",
    "    (h) Grau de desvio de afastamento da simetria de uma distribuição, pode ser positiva para distribuições a direita e negativa para a esquerda. Para distribuições simetricas seu valor é zero.\n",
    "    (m ) Quantidade de registros.\n"
   ]
  },
  {
   "cell_type": "markdown",
   "metadata": {},
   "source": [
    "## Exercício 3\n",
    "\n",
    "![image](image1.png)\n",
    "\n",
    "UM GRÁFICO PODE LEVAR A CONCLUSÕES ERRADAS? EXPLIQUE POR QUE O GRÁFICO ABAIXO LEVA A CONCLUSÕES ERRADAS.</br>\n",
    "\n",
    "R: A ordenação dos trimestres pode nos levar a acreditar que está diminuindo o número de atendimentos do hospital.</br>\n",
    "Quando na verdade os atendimentos aumentam até o terceitro trimestre e caem no quarto trimestre.\n"
   ]
  },
  {
   "cell_type": "markdown",
   "metadata": {},
   "source": [
    "## Exercício 4\n",
    "\n",
    "SEM CALCULAR, OBSERVE OS TRÊS GRÁFICOS E RESPONDA:\n",
    "\n",
    "![image2](image2.png)\n",
    "\n",
    "A - QUAL É O CONJUNTO DE DADOS COM MAIOR DESVIO PADRÃO? QUAL TEM O MENOR DESVIO PADRÃO? EXPLIQUE SEU RACIOCÍNIO.</br>\n",
    "R: A agência Y tem o maior desvio padrão, onde o tempo de atendimento se alterna muito da média.</br> \n",
    "O menor desvio padrão está na agencia K. Os dados estão mais concentrados próximos da média</br>\n",
    "\n",
    "B - NO QUE OS CONJUNTOS DE DADOS SÃO IGUAIS? NO QUE ELES DIFEREM?</br>\n",
    "R: Os conjuntos possuem a mesma média e mediana de tempo atendimento. </br>\n",
    "Se diferenciam no desvio padrão. Maior desvio padrão na agência Y e menor na agência K.\n",
    "\n",
    "C - EM QUAL AGÊNCIA VOCÊ IRIA? JUSTIFIQUE?</br>\n",
    "Se puder arriscar, seria a Y. Pois a chance de ser atendido rápidamente é a mesma de ser atendido com a maior demora.\n",
    "\n",
    "\n"
   ]
  },
  {
   "cell_type": "markdown",
   "metadata": {},
   "source": [
    "## Exercício 5\n",
    "\n",
    "A - Para uma distribuição assimétrica, qual das seguintes estatísticas é uma boa medida para resumir a tendência central dos dados?</br> \n",
    "(  ) média</br> \n",
    "(  ) mediana </br> \n",
    "(x ) ou média ou mediana</br> \n",
    "\n",
    "B - Classifique cada estatística a seguir em uma das opções: (a) tendência central; (b) dispersão; (c) forma;</br> \n",
    "(a) média</br> \n",
    "(c) curtose</br> \n",
    "(a) mediana</br> \n",
    "(b) desvio padrão</br> \n",
    "(b) variância</br> \n",
    "(a) moda</br> \n",
    "(c) assimetria</br> \n",
    "(b) intervalo interquartil</br> "
   ]
  },
  {
   "cell_type": "markdown",
   "metadata": {},
   "source": [
    "## Exercício 6 \n",
    "Salários pagos na empresa XYZ (2o. semestre de 2009)</br>"
   ]
  },
  {
   "cell_type": "code",
   "execution_count": 176,
   "metadata": {},
   "outputs": [
    {
     "data": {
      "text/html": [
       "<div>\n",
       "<style scoped>\n",
       "    .dataframe tbody tr th:only-of-type {\n",
       "        vertical-align: middle;\n",
       "    }\n",
       "\n",
       "    .dataframe tbody tr th {\n",
       "        vertical-align: top;\n",
       "    }\n",
       "\n",
       "    .dataframe thead th {\n",
       "        text-align: right;\n",
       "    }\n",
       "</style>\n",
       "<table border=\"1\" class=\"dataframe\">\n",
       "  <thead>\n",
       "    <tr style=\"text-align: right;\">\n",
       "      <th></th>\n",
       "      <th>Mes/Ano</th>\n",
       "      <th>Número de Empregados</th>\n",
       "      <th>Salários Pagos</th>\n",
       "    </tr>\n",
       "  </thead>\n",
       "  <tbody>\n",
       "    <tr>\n",
       "      <th>0</th>\n",
       "      <td>Julho/09</td>\n",
       "      <td>57</td>\n",
       "      <td>30127</td>\n",
       "    </tr>\n",
       "    <tr>\n",
       "      <th>1</th>\n",
       "      <td>Agosto/09</td>\n",
       "      <td>61</td>\n",
       "      <td>32893</td>\n",
       "    </tr>\n",
       "    <tr>\n",
       "      <th>2</th>\n",
       "      <td>Setembro/09</td>\n",
       "      <td>58</td>\n",
       "      <td>31041</td>\n",
       "    </tr>\n",
       "    <tr>\n",
       "      <th>3</th>\n",
       "      <td>Outubro/09</td>\n",
       "      <td>55</td>\n",
       "      <td>29412</td>\n",
       "    </tr>\n",
       "    <tr>\n",
       "      <th>4</th>\n",
       "      <td>Novembro/09</td>\n",
       "      <td>66</td>\n",
       "      <td>35523</td>\n",
       "    </tr>\n",
       "    <tr>\n",
       "      <th>5</th>\n",
       "      <td>Dezembro/09</td>\n",
       "      <td>75</td>\n",
       "      <td>40080</td>\n",
       "    </tr>\n",
       "  </tbody>\n",
       "</table>\n",
       "</div>"
      ],
      "text/plain": [
       "       Mes/Ano  Número de Empregados  Salários Pagos\n",
       "0     Julho/09                    57           30127\n",
       "1    Agosto/09                    61           32893\n",
       "2  Setembro/09                    58           31041\n",
       "3   Outubro/09                    55           29412\n",
       "4  Novembro/09                    66           35523\n",
       "5  Dezembro/09                    75           40080"
      ]
     },
     "execution_count": 176,
     "metadata": {},
     "output_type": "execute_result"
    }
   ],
   "source": [
    "\n",
    "data = {\"Mes/Ano\": [\"Julho/09\", \"Agosto/09\", \"Setembro/09\", \"Outubro/09\", \"Novembro/09\", \"Dezembro/09\"],\n",
    "        \"Número de Empregados\": [57, 61, 58, 55, 66, 75],\n",
    "        \"Salários Pagos\": [30127, 32893, 31041, 29412, 35523, 40080]\n",
    "}\n",
    "\n",
    "empresa = pd.DataFrame(data, index=None)        \n",
    "empresa"
   ]
  },
  {
   "cell_type": "code",
   "execution_count": 177,
   "metadata": {},
   "outputs": [
    {
     "data": {
      "text/plain": [
       "Index(['Mes/Ano', 'Número de Empregados', 'Salários Pagos'], dtype='object')"
      ]
     },
     "execution_count": 177,
     "metadata": {},
     "output_type": "execute_result"
    }
   ],
   "source": [
    "empresa.columns"
   ]
  },
  {
   "cell_type": "code",
   "execution_count": 178,
   "metadata": {},
   "outputs": [],
   "source": [
    "empresa.rename(columns = {'Mes/Ano': 'mes_ano', \n",
    "                              'Número de Empregados': 'nr_empregados', \n",
    "                              'Salários Pagos': 'salario_pago'\n",
    "                                }, \n",
    "                    inplace = True)"
   ]
  },
  {
   "cell_type": "code",
   "execution_count": 179,
   "metadata": {},
   "outputs": [
    {
     "name": "stdout",
     "output_type": "stream",
     "text": [
      "<class 'pandas.core.frame.DataFrame'>\n",
      "RangeIndex: 6 entries, 0 to 5\n",
      "Data columns (total 3 columns):\n",
      " #   Column         Non-Null Count  Dtype \n",
      "---  ------         --------------  ----- \n",
      " 0   mes_ano        6 non-null      object\n",
      " 1   nr_empregados  6 non-null      int64 \n",
      " 2   salario_pago   6 non-null      int64 \n",
      "dtypes: int64(2), object(1)\n",
      "memory usage: 272.0+ bytes\n"
     ]
    }
   ],
   "source": [
    "empresa.info()"
   ]
  },
  {
   "cell_type": "code",
   "execution_count": 180,
   "metadata": {},
   "outputs": [
    {
     "data": {
      "text/html": [
       "<div>\n",
       "<style scoped>\n",
       "    .dataframe tbody tr th:only-of-type {\n",
       "        vertical-align: middle;\n",
       "    }\n",
       "\n",
       "    .dataframe tbody tr th {\n",
       "        vertical-align: top;\n",
       "    }\n",
       "\n",
       "    .dataframe thead th {\n",
       "        text-align: right;\n",
       "    }\n",
       "</style>\n",
       "<table border=\"1\" class=\"dataframe\">\n",
       "  <thead>\n",
       "    <tr style=\"text-align: right;\">\n",
       "      <th></th>\n",
       "      <th>nr_empregados</th>\n",
       "      <th>salario_pago</th>\n",
       "    </tr>\n",
       "  </thead>\n",
       "  <tbody>\n",
       "    <tr>\n",
       "      <th>count</th>\n",
       "      <td>6.00000</td>\n",
       "      <td>6.000000</td>\n",
       "    </tr>\n",
       "    <tr>\n",
       "      <th>mean</th>\n",
       "      <td>62.00000</td>\n",
       "      <td>33179.333333</td>\n",
       "    </tr>\n",
       "    <tr>\n",
       "      <th>std</th>\n",
       "      <td>7.42967</td>\n",
       "      <td>4031.773043</td>\n",
       "    </tr>\n",
       "    <tr>\n",
       "      <th>min</th>\n",
       "      <td>55.00000</td>\n",
       "      <td>29412.000000</td>\n",
       "    </tr>\n",
       "    <tr>\n",
       "      <th>25%</th>\n",
       "      <td>57.25000</td>\n",
       "      <td>30355.500000</td>\n",
       "    </tr>\n",
       "    <tr>\n",
       "      <th>50%</th>\n",
       "      <td>59.50000</td>\n",
       "      <td>31967.000000</td>\n",
       "    </tr>\n",
       "    <tr>\n",
       "      <th>75%</th>\n",
       "      <td>64.75000</td>\n",
       "      <td>34865.500000</td>\n",
       "    </tr>\n",
       "    <tr>\n",
       "      <th>max</th>\n",
       "      <td>75.00000</td>\n",
       "      <td>40080.000000</td>\n",
       "    </tr>\n",
       "  </tbody>\n",
       "</table>\n",
       "</div>"
      ],
      "text/plain": [
       "       nr_empregados  salario_pago\n",
       "count        6.00000      6.000000\n",
       "mean        62.00000  33179.333333\n",
       "std          7.42967   4031.773043\n",
       "min         55.00000  29412.000000\n",
       "25%         57.25000  30355.500000\n",
       "50%         59.50000  31967.000000\n",
       "75%         64.75000  34865.500000\n",
       "max         75.00000  40080.000000"
      ]
     },
     "execution_count": 180,
     "metadata": {},
     "output_type": "execute_result"
    }
   ],
   "source": [
    "empresa.describe()"
   ]
  },
  {
   "cell_type": "code",
   "execution_count": 181,
   "metadata": {},
   "outputs": [
    {
     "data": {
      "text/html": [
       "<div>\n",
       "<style scoped>\n",
       "    .dataframe tbody tr th:only-of-type {\n",
       "        vertical-align: middle;\n",
       "    }\n",
       "\n",
       "    .dataframe tbody tr th {\n",
       "        vertical-align: top;\n",
       "    }\n",
       "\n",
       "    .dataframe thead th {\n",
       "        text-align: right;\n",
       "    }\n",
       "</style>\n",
       "<table border=\"1\" class=\"dataframe\">\n",
       "  <thead>\n",
       "    <tr style=\"text-align: right;\">\n",
       "      <th></th>\n",
       "      <th>mes_ano</th>\n",
       "      <th>nr_empregados</th>\n",
       "      <th>salario_pago</th>\n",
       "      <th>media</th>\n",
       "    </tr>\n",
       "  </thead>\n",
       "  <tbody>\n",
       "    <tr>\n",
       "      <th>0</th>\n",
       "      <td>Julho/09</td>\n",
       "      <td>57</td>\n",
       "      <td>30127</td>\n",
       "      <td>528.543860</td>\n",
       "    </tr>\n",
       "    <tr>\n",
       "      <th>1</th>\n",
       "      <td>Agosto/09</td>\n",
       "      <td>61</td>\n",
       "      <td>32893</td>\n",
       "      <td>539.229508</td>\n",
       "    </tr>\n",
       "    <tr>\n",
       "      <th>2</th>\n",
       "      <td>Setembro/09</td>\n",
       "      <td>58</td>\n",
       "      <td>31041</td>\n",
       "      <td>535.189655</td>\n",
       "    </tr>\n",
       "    <tr>\n",
       "      <th>3</th>\n",
       "      <td>Outubro/09</td>\n",
       "      <td>55</td>\n",
       "      <td>29412</td>\n",
       "      <td>534.763636</td>\n",
       "    </tr>\n",
       "    <tr>\n",
       "      <th>4</th>\n",
       "      <td>Novembro/09</td>\n",
       "      <td>66</td>\n",
       "      <td>35523</td>\n",
       "      <td>538.227273</td>\n",
       "    </tr>\n",
       "    <tr>\n",
       "      <th>5</th>\n",
       "      <td>Dezembro/09</td>\n",
       "      <td>75</td>\n",
       "      <td>40080</td>\n",
       "      <td>534.400000</td>\n",
       "    </tr>\n",
       "  </tbody>\n",
       "</table>\n",
       "</div>"
      ],
      "text/plain": [
       "       mes_ano  nr_empregados  salario_pago       media\n",
       "0     Julho/09             57         30127  528.543860\n",
       "1    Agosto/09             61         32893  539.229508\n",
       "2  Setembro/09             58         31041  535.189655\n",
       "3   Outubro/09             55         29412  534.763636\n",
       "4  Novembro/09             66         35523  538.227273\n",
       "5  Dezembro/09             75         40080  534.400000"
      ]
     },
     "execution_count": 181,
     "metadata": {},
     "output_type": "execute_result"
    }
   ],
   "source": [
    "empresa_media_salarial = empresa\n",
    "empresa_media_salarial[\"media\"] = empresa_media_salarial.salario_pago / empresa_media_salarial.nr_empregados\n",
    "empresa_media_salarial"
   ]
  },
  {
   "cell_type": "markdown",
   "metadata": {},
   "source": [
    "A média salarial dos funcionérios pouco se altera entre julho e dezembro.\n"
   ]
  },
  {
   "cell_type": "code",
   "execution_count": 182,
   "metadata": {},
   "outputs": [
    {
     "name": "stdout",
     "output_type": "stream",
     "text": [
      "A média salarial dos funcionários é de: 535.15\n"
     ]
    }
   ],
   "source": [
    "media = sum(empresa.salario_pago) / sum(empresa.nr_empregados)\n",
    "print(f\"A média salarial dos funcionários é de: {round(media, 2)}\")\n"
   ]
  },
  {
   "cell_type": "markdown",
   "metadata": {},
   "source": [
    "O crescimento do número de funcionários no mês de dezembro, pode indicar a necessidade de mais mão de obra nesse período do ano. Mas como só temos a informação de seis meses, não podemos constatar que se trata de sazonalidade ou um crescimento da empresa."
   ]
  },
  {
   "cell_type": "markdown",
   "metadata": {},
   "source": [
    "## Exercício 7\n",
    "Uma loja de utensílios vende em média 320 peças por dia, com desvio de 40.</br> \n",
    "Após exaustiva campanha publicitária a administração pede para calcular a “nova média” de vendas para avaliar se ocorreu alguma melhora.</br> \n",
    "Sabendo-se que o resultado foi de 370 peças vendidas na campanha, você pode dizer que a campanha foi um sucesso com α=5%?</br>  \n",
    "Quais são as hipóteses nula e alternativa deste teste e sua conclusão.  E sua conclusão sobre o sucesso ou não da campanha publicitária.</br>"
   ]
  },
  {
   "cell_type": "code",
   "execution_count": 183,
   "metadata": {},
   "outputs": [],
   "source": [
    "media_diaria = 320\n",
    "sd = 40\n",
    "nova_media = 370\n",
    "alpha = 0.05"
   ]
  },
  {
   "cell_type": "markdown",
   "metadata": {},
   "source": [
    "### Hipótese Nula\n",
    "h0: A média da campanha é de 320.</br>\n",
    "\n",
    "se p-value < alpha, rejeitamos a hipótese nula</br>\n",
    "\n",
    "A hipótese nula é aceita quando os valores estão entre [média - desvio padrão] e [média + desvio padrão]. Ou seja 280 e 360.</br>\n",
    "\n",
    "Logo, podemos rejeitar a hipótese nula e dizer que a nova média de vendas da empresa é de 370 peças vendidas.</br>\n"
   ]
  },
  {
   "cell_type": "markdown",
   "metadata": {},
   "source": [
    "## Exercício 8\n",
    "Uma amostra de 1250 graus universitários conferidos em uma certa universidade, acusou a seguinte tabela.</br>"
   ]
  },
  {
   "cell_type": "code",
   "execution_count": 184,
   "metadata": {},
   "outputs": [
    {
     "data": {
      "text/html": [
       "<div>\n",
       "<style scoped>\n",
       "    .dataframe tbody tr th:only-of-type {\n",
       "        vertical-align: middle;\n",
       "    }\n",
       "\n",
       "    .dataframe tbody tr th {\n",
       "        vertical-align: top;\n",
       "    }\n",
       "\n",
       "    .dataframe thead th {\n",
       "        text-align: right;\n",
       "    }\n",
       "</style>\n",
       "<table border=\"1\" class=\"dataframe\">\n",
       "  <thead>\n",
       "    <tr style=\"text-align: right;\">\n",
       "      <th></th>\n",
       "      <th>Masculino</th>\n",
       "      <th>Feminino</th>\n",
       "    </tr>\n",
       "  </thead>\n",
       "  <tbody>\n",
       "    <tr>\n",
       "      <th>Bacharel</th>\n",
       "      <td>505</td>\n",
       "      <td>405</td>\n",
       "    </tr>\n",
       "    <tr>\n",
       "      <th>Mestre</th>\n",
       "      <td>160</td>\n",
       "      <td>145</td>\n",
       "    </tr>\n",
       "    <tr>\n",
       "      <th>Doutor</th>\n",
       "      <td>25</td>\n",
       "      <td>10</td>\n",
       "    </tr>\n",
       "  </tbody>\n",
       "</table>\n",
       "</div>"
      ],
      "text/plain": [
       "          Masculino  Feminino\n",
       "Bacharel        505       405\n",
       "Mestre          160       145\n",
       "Doutor           25        10"
      ]
     },
     "execution_count": 184,
     "metadata": {},
     "output_type": "execute_result"
    }
   ],
   "source": [
    "# Tabela bi-variada cruzando dados de informações categóricas\n",
    "data = {'Masculino': [505, 160, 25],\n",
    "        'Feminino': [405, 145, 10]}\n",
    "\n",
    "universitario = pd.DataFrame(data, index=[\"Bacharel\", \"Mestre\", \"Doutor\"]) \n",
    "univ = universitario.copy()       \n",
    "universitario"
   ]
  },
  {
   "cell_type": "markdown",
   "metadata": {},
   "source": [
    "Teste a hipótese de que as variáveis Grau Universitário e Sexo são independentes com α=5%."
   ]
  },
  {
   "cell_type": "code",
   "execution_count": 185,
   "metadata": {},
   "outputs": [
    {
     "data": {
      "text/plain": [
       "2"
      ]
     },
     "execution_count": 185,
     "metadata": {},
     "output_type": "execute_result"
    }
   ],
   "source": [
    "graus_liberdade = (universitario.shape[1] - 1) * (universitario.shape[0] - 1)\n",
    "graus_liberdade"
   ]
  },
  {
   "cell_type": "code",
   "execution_count": 186,
   "metadata": {},
   "outputs": [
    {
     "data": {
      "text/html": [
       "<div>\n",
       "<style scoped>\n",
       "    .dataframe tbody tr th:only-of-type {\n",
       "        vertical-align: middle;\n",
       "    }\n",
       "\n",
       "    .dataframe tbody tr th {\n",
       "        vertical-align: top;\n",
       "    }\n",
       "\n",
       "    .dataframe thead th {\n",
       "        text-align: right;\n",
       "    }\n",
       "</style>\n",
       "<table border=\"1\" class=\"dataframe\">\n",
       "  <thead>\n",
       "    <tr style=\"text-align: right;\">\n",
       "      <th></th>\n",
       "      <th>Masculino</th>\n",
       "      <th>Feminino</th>\n",
       "      <th>Total</th>\n",
       "    </tr>\n",
       "  </thead>\n",
       "  <tbody>\n",
       "    <tr>\n",
       "      <th>Bacharel</th>\n",
       "      <td>505.0</td>\n",
       "      <td>405.0</td>\n",
       "      <td>910.0</td>\n",
       "    </tr>\n",
       "    <tr>\n",
       "      <th>Mestre</th>\n",
       "      <td>160.0</td>\n",
       "      <td>145.0</td>\n",
       "      <td>305.0</td>\n",
       "    </tr>\n",
       "    <tr>\n",
       "      <th>Doutor</th>\n",
       "      <td>25.0</td>\n",
       "      <td>10.0</td>\n",
       "      <td>35.0</td>\n",
       "    </tr>\n",
       "    <tr>\n",
       "      <th>Total</th>\n",
       "      <td>690.0</td>\n",
       "      <td>560.0</td>\n",
       "      <td>1250.0</td>\n",
       "    </tr>\n",
       "  </tbody>\n",
       "</table>\n",
       "</div>"
      ],
      "text/plain": [
       "          Masculino  Feminino   Total\n",
       "Bacharel      505.0     405.0   910.0\n",
       "Mestre        160.0     145.0   305.0\n",
       "Doutor         25.0      10.0    35.0\n",
       "Total         690.0     560.0  1250.0"
      ]
     },
     "execution_count": 186,
     "metadata": {},
     "output_type": "execute_result"
    }
   ],
   "source": [
    "#Total sum per column: \n",
    "universitario.loc['Total',:]= universitario.sum(axis=0)\n",
    "\n",
    "#Total sum per row: \n",
    "universitario.loc[:,'Total'] = universitario.sum(axis=1)\n",
    "universitario"
   ]
  },
  {
   "cell_type": "code",
   "execution_count": 187,
   "metadata": {},
   "outputs": [
    {
     "name": "stdout",
     "output_type": "stream",
     "text": [
      "Percentuais por sexo:\n",
      "Masculino: 55.2\n",
      "Feminino:44.8\n"
     ]
    }
   ],
   "source": [
    "perc_fem = 560 / 1250\n",
    "perc_masc = 690 / 1250\n",
    "print(f\"Percentuais por sexo:\\nMasculino: {round(perc_masc*100, 2)}\\nFeminino:{round(perc_fem*100, 2)}\")\n"
   ]
  },
  {
   "cell_type": "code",
   "execution_count": 188,
   "metadata": {},
   "outputs": [
    {
     "name": "stdout",
     "output_type": "stream",
     "text": [
      "lista de valores esperados:\n",
      "Masculino: [502.32000000000005, 168.36, 19.32, 690.0000000000001]\n",
      "Feminino:[407.68, 136.64000000000001, 15.68, 560.0]\n"
     ]
    }
   ],
   "source": [
    "universitario.Total\n",
    "masc_t = [el * 0.552 for el in universitario.Total]\n",
    "fem_t = [el * 0.448 for el in universitario.Total]\n",
    "print(f\"lista de valores esperados:\\nMasculino: {masc_t}\\nFeminino:{fem_t}\")\n",
    "\n",
    "#pat = {'Masculino': [910*55.2, 160, 25],\n",
    "#        'Feminino': [405, 145, 10]}\n",
    "\n",
    "#table = pd.DataFrame(data, index=[\"Bacharel\", \"Mestre\", \"Doutor\"])        "
   ]
  },
  {
   "cell_type": "code",
   "execution_count": 189,
   "metadata": {},
   "outputs": [
    {
     "data": {
      "text/html": [
       "<div>\n",
       "<style scoped>\n",
       "    .dataframe tbody tr th:only-of-type {\n",
       "        vertical-align: middle;\n",
       "    }\n",
       "\n",
       "    .dataframe tbody tr th {\n",
       "        vertical-align: top;\n",
       "    }\n",
       "\n",
       "    .dataframe thead th {\n",
       "        text-align: right;\n",
       "    }\n",
       "</style>\n",
       "<table border=\"1\" class=\"dataframe\">\n",
       "  <thead>\n",
       "    <tr style=\"text-align: right;\">\n",
       "      <th></th>\n",
       "      <th>Masculino</th>\n",
       "      <th>Feminino</th>\n",
       "    </tr>\n",
       "  </thead>\n",
       "  <tbody>\n",
       "    <tr>\n",
       "      <th>Bacharel</th>\n",
       "      <td>502</td>\n",
       "      <td>408</td>\n",
       "    </tr>\n",
       "    <tr>\n",
       "      <th>Mestre</th>\n",
       "      <td>168</td>\n",
       "      <td>137</td>\n",
       "    </tr>\n",
       "    <tr>\n",
       "      <th>Doutor</th>\n",
       "      <td>19</td>\n",
       "      <td>16</td>\n",
       "    </tr>\n",
       "  </tbody>\n",
       "</table>\n",
       "</div>"
      ],
      "text/plain": [
       "          Masculino  Feminino\n",
       "Bacharel        502       408\n",
       "Mestre          168       137\n",
       "Doutor           19        16"
      ]
     },
     "execution_count": 189,
     "metadata": {},
     "output_type": "execute_result"
    }
   ],
   "source": [
    "data = {'Masculino': [502, 168, 19],\n",
    "        'Feminino': [408, 137, 16]}\n",
    "\n",
    "esperada = pd.DataFrame(data, index=[\"Bacharel\", \"Mestre\", \"Doutor\"])\n",
    "esperada        "
   ]
  },
  {
   "cell_type": "code",
   "execution_count": 194,
   "metadata": {},
   "outputs": [
    {
     "data": {
      "text/plain": [
       "0.09604049074242248"
      ]
     },
     "execution_count": 194,
     "metadata": {},
     "output_type": "execute_result"
    }
   ],
   "source": [
    "# Testes não paramétricos, qui-quadrado, teste de independência\n",
    "# Tabela de contingência(Sintetiza a diferença entre a frequencia observada e a frequencia esperada)\n",
    "\n",
    "# h0 - As variáveis são independentes\n",
    "# h1 - há algum grau de associação entre as variáveis\n",
    "from scipy.stats import chi2_contingency\n",
    "from scipy.stats import chi2\n",
    "\n",
    "stat, p, dof, esperada = chi2_contingency(univ)\n",
    "p"
   ]
  },
  {
   "cell_type": "code",
   "execution_count": null,
   "metadata": {},
   "outputs": [],
   "source": [
    "from scipy.stats import chi2_contingency\n",
    "from scipy.stats import chi2"
   ]
  },
  {
   "cell_type": "code",
   "execution_count": 195,
   "metadata": {},
   "outputs": [
    {
     "name": "stdout",
     "output_type": "stream",
     "text": [
      "******************** Graus de Liberdade ********************\n",
      "Graus de liberdade: dof=2\n",
      "\n",
      "Tabela Esperada:\n",
      "[[502.32 407.68]\n",
      " [168.36 136.64]\n",
      " [ 19.32  15.68]]\n",
      "*************** Interpretação Testes Estatísticos ***************\n",
      "Probability=0.95\n",
      "Critical=5.991464547107979\n",
      "Stat=4.6859707957419525\n",
      "Independent (fail to reject H0)\n",
      "******************** Interpretação do p-value ********************\n",
      "significance=0.050000000000000044\n",
      "p=0.09604049074242248\n",
      "Independent (fail to reject H0)\n"
     ]
    }
   ],
   "source": [
    "print(f\"{'*'*20} Graus de Liberdade {'*'*20}\")\n",
    "print(f\"Graus de liberdade: dof={dof}\")\n",
    "\n",
    "print()\n",
    "\n",
    "print(\"Tabela Esperada:\")\n",
    "print(esperada)\n",
    "\n",
    "# interpret test-statistic\n",
    "print(f\"{'*'*15} Interpretação Testes Estatísticos {'*'*15}\")\n",
    "prob = 0.95\n",
    "critical = chi2.ppf(prob, dof)\n",
    "\n",
    "print(f\"Probability={prob}\\nCritical={critical}\\nStat={stat}\")\n",
    "\n",
    "if abs(stat) >= critical:\n",
    "\tprint(\"Dependent (reject H0)\")\n",
    "else:\n",
    "\tprint(\"Independent (fail to reject H0)\")\n",
    "\n",
    "# interpret p-value\n",
    "print(f\"{'*'*20} Interpretação do p-value {'*'*20}\")\n",
    "alpha = 1.0 - prob\n",
    "print(f\"significance={alpha}\\np={p}\")\n",
    "\n",
    "if p <= alpha:\n",
    "\tprint(\"Dependent (reject H0)\")\n",
    "else:\n",
    "\tprint(\"Independent (fail to reject H0)\")"
   ]
  },
  {
   "cell_type": "markdown",
   "metadata": {},
   "source": [
    "Os dados não trazem evidências de dependência.</br> Hipótese nula rejeitada.</br>"
   ]
  }
 ],
 "metadata": {
  "kernelspec": {
   "display_name": "Python 3.8.10 ('venv': venv)",
   "language": "python",
   "name": "python3"
  },
  "language_info": {
   "codemirror_mode": {
    "name": "ipython",
    "version": 3
   },
   "file_extension": ".py",
   "mimetype": "text/x-python",
   "name": "python",
   "nbconvert_exporter": "python",
   "pygments_lexer": "ipython3",
   "version": "3.8.10"
  },
  "orig_nbformat": 4,
  "vscode": {
   "interpreter": {
    "hash": "d5fe847d95f92cd994739f56747143923054ce23e745ebfc8c5012f59938594b"
   }
  }
 },
 "nbformat": 4,
 "nbformat_minor": 2
}
