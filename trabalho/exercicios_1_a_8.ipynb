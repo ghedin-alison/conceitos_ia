{
 "cells": [
  {
   "cell_type": "code",
   "execution_count": 2,
   "metadata": {},
   "outputs": [],
   "source": [
    "import pandas as pd"
   ]
  },
  {
   "cell_type": "markdown",
   "metadata": {},
   "source": [
    "## Exercicio 1\n",
    "Escolha a melhor resposta a questão:</br>\n",
    "\n",
    "#### a) Selecione a opção que lista as variáveis apenas quantitativas contínuas.</br>\n",
    "    (  ) a temperatura do corpo, o número de crianças, o sexo, a área de um campo de futebol\n",
    "    ( X) idade, a temperatura corporal, o consumo de combustível, a renda\n",
    "    (  ) número de filhos, sexo, consumo de combustível, a renda\n",
    "    (  ) gênero, consumo de combustível, área de um campo de futebol, renda\n",
    "\n",
    "#### b) Separe as variáveis qualitativas das quantitativas do item a):</br>\n",
    "    - Qualitativas:\n",
    "        sexo, genero\n",
    "    - Quantitativas:\n",
    "        - continuas:\n",
    "            Temperatura do corpo, área de um campo de futebol, idade, consumo de combustivel, renda\n",
    "         -discretas:\n",
    "            número de crianças(filhos)"
   ]
  },
  {
   "cell_type": "markdown",
   "metadata": {},
   "source": [
    "## Exercício 2\n",
    "    (a) Média\n",
    "    (b) Erro padrão\n",
    "    (c) Mediana\n",
    "    (d) Moda\n",
    "    (e) Desvio padrão\n",
    "    (f) Variância da amostra\n",
    "    (g) Curtose\n",
    "    (h) Assimetria\n",
    "    (i) Amplitude\n",
    "    (j) Mínimo\n",
    "    (k) Máximo\n",
    "    (l) Soma\n",
    "    (m) Contagem\n",
    "\n",
    "\n",
    "    (g) Medida de dispersão que caracteriza o pico ou \"achatamento\" da curva da função de distribuição de probabilidade\n",
    "    (k) É o maior valor de um conjunto de dados.\n",
    "    (j) É o menor valor de um conjunto de dados.\n",
    "    (a) Valor numérico que separa a metade superior de uma amostra de dados, uma população ou uma distribuição de probabilidade, a partir da metade inferior.\n",
    "    (d) Valor que detém o maior número de observações, ou seja, o valor ou valores mais frequentes, ou ainda \"o valor que ocorre com maior frequência num conjunto de dados, isto é, o valor mais comum\n",
    "    (b) Medida de variabilidade da média amostral.\n",
    "    (i) Medida de dispersão. É a diferença entre o máximo e o mínimo.\n",
    "    (c) Valor que aponta para onde mais se concentram os dados de uma distribuição. Pode ser considerada o ponto de equilíbrio das frequências, num histograma.\n",
    "    (e) Medida que se obtém somando os quadrados dos desvios dos dados relativamente à média, e dividindo pelo número de dados menos um. Representa-se por s2.\n",
    "    (f) É a medida mais comum da dispersão estatística. Ele mostra a quanto de variação ou dispersão em relação à média.\n",
    "    (l) Conjunto constituído pela reunião de diversos subconjuntos; total, conjunto, somatório.\n",
    "    (h) Grau de desvio de afastamento da simetria de uma distribuição, pode ser positiva para distribuições a direita e negativa para a esquerda. Para distribuições simetricas seu valor é zero.\n",
    "    (m ) Quantidade de registros.\n"
   ]
  },
  {
   "cell_type": "markdown",
   "metadata": {},
   "source": []
  },
  {
   "cell_type": "markdown",
   "metadata": {},
   "source": [
    "## Exercício 3\n",
    "\n",
    "![image](image1.png)\n",
    "\n",
    "UM GRÁFICO PODE LEVAR A CONCLUSÕES ERRADAS? EXPLIQUE POR QUE O GRÁFICO ABAIXO LEVA A CONCLUSÕES ERRADAS.</br>\n",
    "\n",
    "R: A ordenação dos trimestres pode nos levar a acreditar que está diminuindo o número de atendimentos do hospital.</br>\n",
    "Quando na verdade os atendimentos aumentam até o terceitro trimestre e caem no quarto trimestre.\n"
   ]
  },
  {
   "cell_type": "markdown",
   "metadata": {},
   "source": [
    "## Exercício 4\n",
    "\n",
    "SEM CALCULAR, OBSERVE OS TRÊS GRÁFICOS E RESPONDA:\n",
    "\n",
    "![image2](image2.png)\n",
    "\n",
    "A - QUAL É O CONJUNTO DE DADOS COM MAIOR DESVIO PADRÃO? QUAL TEM O MENOR DESVIO PADRÃO? EXPLIQUE SEU RACIOCÍNIO.</br>\n",
    "R: A agência Y tem o maior desvio padrão, onde o tempo de atendimento se alterna muito da média.</br> \n",
    "O menor desvio padrão está na agencia K. Os dados estão mais concentrados próximos da média</br>\n",
    "\n",
    "B - NO QUE OS CONJUNTOS DE DADOS SÃO IGUAIS? NO QUE ELES DIFEREM?</br>\n",
    "R: Os conjuntos possuem a mesma média e mediana de tempo atendimento. </br>\n",
    "Se diferenciam no desvio padrão. Maior desvio padrão na agência Y e menor na agência K.\n",
    "\n",
    "C - EM QUAL AGÊNCIA VOCÊ IRIA? JUSTIFIQUE?</br>\n",
    "Se puder arriscar, seria a Y. Pois a chance de ser atendido rápidamente é a mesma de ser atendido com a maior demora.\n",
    "\n",
    "\n"
   ]
  },
  {
   "cell_type": "markdown",
   "metadata": {},
   "source": [
    "## Exercício 5\n",
    "\n",
    "A - Para uma distribuição assimétrica, qual das seguintes estatísticas é uma boa medida para resumir a tendência central dos dados?</br> \n",
    "(  ) média</br> \n",
    "(  ) mediana </br> \n",
    "(x ) ou média ou mediana</br> \n",
    "\n",
    "B - Classifique cada estatística a seguir em uma das opções: (a) tendência central; (b) dispersão; (c) forma;</br> \n",
    "(a) média</br> \n",
    "(c) curtose</br> \n",
    "(a) mediana</br> \n",
    "(b) desvio padrão</br> \n",
    "(b) variância</br> \n",
    "(a) moda</br> \n",
    "(c) assimetria</br> \n",
    "(b) intervalo interquartil</br> "
   ]
  },
  {
   "cell_type": "markdown",
   "metadata": {},
   "source": [
    "## Exercício 6 \n",
    "Salários pagos na empresa XYZ (2o. semestre de 2009)</br>"
   ]
  },
  {
   "cell_type": "code",
   "execution_count": 14,
   "metadata": {},
   "outputs": [
    {
     "data": {
      "text/html": [
       "<div>\n",
       "<style scoped>\n",
       "    .dataframe tbody tr th:only-of-type {\n",
       "        vertical-align: middle;\n",
       "    }\n",
       "\n",
       "    .dataframe tbody tr th {\n",
       "        vertical-align: top;\n",
       "    }\n",
       "\n",
       "    .dataframe thead th {\n",
       "        text-align: right;\n",
       "    }\n",
       "</style>\n",
       "<table border=\"1\" class=\"dataframe\">\n",
       "  <thead>\n",
       "    <tr style=\"text-align: right;\">\n",
       "      <th></th>\n",
       "      <th>Mes/Ano</th>\n",
       "      <th>Número de Empregados</th>\n",
       "      <th>Salários Pagos</th>\n",
       "    </tr>\n",
       "  </thead>\n",
       "  <tbody>\n",
       "    <tr>\n",
       "      <th>0</th>\n",
       "      <td>Julho/09</td>\n",
       "      <td>57</td>\n",
       "      <td>30127</td>\n",
       "    </tr>\n",
       "    <tr>\n",
       "      <th>1</th>\n",
       "      <td>Agosto/09</td>\n",
       "      <td>61</td>\n",
       "      <td>32893</td>\n",
       "    </tr>\n",
       "    <tr>\n",
       "      <th>2</th>\n",
       "      <td>Setembro/09</td>\n",
       "      <td>58</td>\n",
       "      <td>31041</td>\n",
       "    </tr>\n",
       "    <tr>\n",
       "      <th>3</th>\n",
       "      <td>Outubro/09</td>\n",
       "      <td>55</td>\n",
       "      <td>29412</td>\n",
       "    </tr>\n",
       "    <tr>\n",
       "      <th>4</th>\n",
       "      <td>Novembro/09</td>\n",
       "      <td>66</td>\n",
       "      <td>35523</td>\n",
       "    </tr>\n",
       "    <tr>\n",
       "      <th>5</th>\n",
       "      <td>Dezembro/09</td>\n",
       "      <td>75</td>\n",
       "      <td>40080</td>\n",
       "    </tr>\n",
       "  </tbody>\n",
       "</table>\n",
       "</div>"
      ],
      "text/plain": [
       "       Mes/Ano  Número de Empregados  Salários Pagos\n",
       "0     Julho/09                    57           30127\n",
       "1    Agosto/09                    61           32893\n",
       "2  Setembro/09                    58           31041\n",
       "3   Outubro/09                    55           29412\n",
       "4  Novembro/09                    66           35523\n",
       "5  Dezembro/09                    75           40080"
      ]
     },
     "execution_count": 14,
     "metadata": {},
     "output_type": "execute_result"
    }
   ],
   "source": [
    "\n",
    "\n",
    "\n",
    "data = {\"Mes/Ano\": [\"Julho/09\", \"Agosto/09\", \"Setembro/09\", \"Outubro/09\", \"Novembro/09\", \"Dezembro/09\"],\n",
    "        \"Número de Empregados\": [57, 61, 58, 55, 66, 75],\n",
    "        \"Salários Pagos\": [30127, 32893, 31041, 29412, 35523, 40080]\n",
    "}\n",
    "\n",
    "df = pd.DataFrame(data, index=None)        \n",
    "df\n",
    "# verificar a variância\n"
   ]
  },
  {
   "cell_type": "code",
   "execution_count": 15,
   "metadata": {},
   "outputs": [
    {
     "data": {
      "text/plain": [
       "Index(['Mes/Ano', 'Número de Empregados', 'Salários Pagos'], dtype='object')"
      ]
     },
     "execution_count": 15,
     "metadata": {},
     "output_type": "execute_result"
    }
   ],
   "source": [
    "df.columns\n"
   ]
  },
  {
   "cell_type": "code",
   "execution_count": 16,
   "metadata": {},
   "outputs": [],
   "source": [
    "df.rename(columns = {'Mes/Ano': 'mes_ano', \n",
    "                              'Número de Empregados': 'nr_empregados', \n",
    "                              'Salários Pagos': 'salario_pago'\n",
    "                                }, \n",
    "                    inplace = True)\n"
   ]
  },
  {
   "cell_type": "code",
   "execution_count": 18,
   "metadata": {},
   "outputs": [
    {
     "data": {
      "text/html": [
       "<div>\n",
       "<style scoped>\n",
       "    .dataframe tbody tr th:only-of-type {\n",
       "        vertical-align: middle;\n",
       "    }\n",
       "\n",
       "    .dataframe tbody tr th {\n",
       "        vertical-align: top;\n",
       "    }\n",
       "\n",
       "    .dataframe thead th {\n",
       "        text-align: right;\n",
       "    }\n",
       "</style>\n",
       "<table border=\"1\" class=\"dataframe\">\n",
       "  <thead>\n",
       "    <tr style=\"text-align: right;\">\n",
       "      <th></th>\n",
       "      <th>mes_ano</th>\n",
       "      <th>nr_empregados</th>\n",
       "      <th>salario_pago</th>\n",
       "      <th>media</th>\n",
       "    </tr>\n",
       "  </thead>\n",
       "  <tbody>\n",
       "    <tr>\n",
       "      <th>0</th>\n",
       "      <td>Julho/09</td>\n",
       "      <td>57</td>\n",
       "      <td>30127</td>\n",
       "      <td>528.543860</td>\n",
       "    </tr>\n",
       "    <tr>\n",
       "      <th>1</th>\n",
       "      <td>Agosto/09</td>\n",
       "      <td>61</td>\n",
       "      <td>32893</td>\n",
       "      <td>539.229508</td>\n",
       "    </tr>\n",
       "    <tr>\n",
       "      <th>2</th>\n",
       "      <td>Setembro/09</td>\n",
       "      <td>58</td>\n",
       "      <td>31041</td>\n",
       "      <td>535.189655</td>\n",
       "    </tr>\n",
       "    <tr>\n",
       "      <th>3</th>\n",
       "      <td>Outubro/09</td>\n",
       "      <td>55</td>\n",
       "      <td>29412</td>\n",
       "      <td>534.763636</td>\n",
       "    </tr>\n",
       "    <tr>\n",
       "      <th>4</th>\n",
       "      <td>Novembro/09</td>\n",
       "      <td>66</td>\n",
       "      <td>35523</td>\n",
       "      <td>538.227273</td>\n",
       "    </tr>\n",
       "    <tr>\n",
       "      <th>5</th>\n",
       "      <td>Dezembro/09</td>\n",
       "      <td>75</td>\n",
       "      <td>40080</td>\n",
       "      <td>534.400000</td>\n",
       "    </tr>\n",
       "  </tbody>\n",
       "</table>\n",
       "</div>"
      ],
      "text/plain": [
       "       mes_ano  nr_empregados  salario_pago       media\n",
       "0     Julho/09             57         30127  528.543860\n",
       "1    Agosto/09             61         32893  539.229508\n",
       "2  Setembro/09             58         31041  535.189655\n",
       "3   Outubro/09             55         29412  534.763636\n",
       "4  Novembro/09             66         35523  538.227273\n",
       "5  Dezembro/09             75         40080  534.400000"
      ]
     },
     "execution_count": 18,
     "metadata": {},
     "output_type": "execute_result"
    }
   ],
   "source": [
    "df['media'] = df.salario_pago / df.nr_empregados\n",
    "df\n"
   ]
  },
  {
   "cell_type": "markdown",
   "metadata": {},
   "source": [
    "## Exercício 7\n",
    "Uma loja de utensílios vende em média 320 peças por dia, com desvio de 40.</br> \n",
    "Após exaustiva campanha publicitária a administração pede para calcular a “nova média” de vendas para avaliar se ocorreu alguma melhora.</br> \n",
    "Sabendo-se que o resultado foi de 370 peças vendidas na campanha, você pode dizer que a campanha foi um sucesso com α=5%?</br>  \n",
    "Quais são as hipóteses nula e alternativa deste teste e sua conclusão.  E sua conclusão sobre o sucesso ou não da campanha publicitária.</br>"
   ]
  },
  {
   "cell_type": "code",
   "execution_count": 19,
   "metadata": {},
   "outputs": [],
   "source": [
    "media_diaria = 320\n",
    "sd = 40\n",
    "nova_media = 370\n",
    "alpha = 0.05\n"
   ]
  },
  {
   "cell_type": "markdown",
   "metadata": {},
   "source": [
    "## Exercício 8\n",
    "Uma amostra de 1250 graus universitários conferidos em uma certa universidade, acusou a seguinte tabela.</br>"
   ]
  },
  {
   "cell_type": "code",
   "execution_count": 23,
   "metadata": {},
   "outputs": [
    {
     "data": {
      "text/html": [
       "<div>\n",
       "<style scoped>\n",
       "    .dataframe tbody tr th:only-of-type {\n",
       "        vertical-align: middle;\n",
       "    }\n",
       "\n",
       "    .dataframe tbody tr th {\n",
       "        vertical-align: top;\n",
       "    }\n",
       "\n",
       "    .dataframe thead th {\n",
       "        text-align: right;\n",
       "    }\n",
       "</style>\n",
       "<table border=\"1\" class=\"dataframe\">\n",
       "  <thead>\n",
       "    <tr style=\"text-align: right;\">\n",
       "      <th></th>\n",
       "      <th>Masculino</th>\n",
       "      <th>Feminino</th>\n",
       "    </tr>\n",
       "  </thead>\n",
       "  <tbody>\n",
       "    <tr>\n",
       "      <th>Bacharel</th>\n",
       "      <td>505</td>\n",
       "      <td>405</td>\n",
       "    </tr>\n",
       "    <tr>\n",
       "      <th>Mestre</th>\n",
       "      <td>160</td>\n",
       "      <td>145</td>\n",
       "    </tr>\n",
       "    <tr>\n",
       "      <th>Doutor</th>\n",
       "      <td>25</td>\n",
       "      <td>10</td>\n",
       "    </tr>\n",
       "  </tbody>\n",
       "</table>\n",
       "</div>"
      ],
      "text/plain": [
       "          Masculino  Feminino\n",
       "Bacharel        505       405\n",
       "Mestre          160       145\n",
       "Doutor           25        10"
      ]
     },
     "execution_count": 23,
     "metadata": {},
     "output_type": "execute_result"
    }
   ],
   "source": [
    "data = {'Masculino': [505, 160, 25],\n",
    "        'Feminino': [405, 145, 10]}\n",
    "\n",
    "df = pd.DataFrame(data, index=[\"Bacharel\", \"Mestre\", \"Doutor\"])        \n",
    "df"
   ]
  },
  {
   "cell_type": "markdown",
   "metadata": {},
   "source": [
    "Teste a hipótese de que as variáveis Grau Universitário e Sexo são independentes com α=5%."
   ]
  },
  {
   "cell_type": "code",
   "execution_count": 24,
   "metadata": {},
   "outputs": [
    {
     "ename": "ValueError",
     "evalue": "All arrays must be of the same length",
     "output_type": "error",
     "traceback": [
      "\u001b[0;31m---------------------------------------------------------------------------\u001b[0m",
      "\u001b[0;31mValueError\u001b[0m                                Traceback (most recent call last)",
      "Cell \u001b[0;32mIn [24], line 1\u001b[0m\n\u001b[0;32m----> 1\u001b[0m table \u001b[38;5;241m=\u001b[39m \u001b[43mpd\u001b[49m\u001b[38;5;241;43m.\u001b[39;49m\u001b[43mcrosstab\u001b[49m\u001b[43m(\u001b[49m\u001b[43mdf\u001b[49m\u001b[38;5;241;43m.\u001b[39;49m\u001b[43mindex\u001b[49m\u001b[43m,\u001b[49m\u001b[43m \u001b[49m\u001b[43mdf\u001b[49m\u001b[38;5;241;43m.\u001b[39;49m\u001b[43mcolumns\u001b[49m\u001b[43m,\u001b[49m\u001b[43m \u001b[49m\u001b[43mmargins\u001b[49m\u001b[38;5;241;43m=\u001b[39;49m\u001b[38;5;28;43;01mTrue\u001b[39;49;00m\u001b[43m)\u001b[49m\n\u001b[1;32m      3\u001b[0m table\n",
      "File \u001b[0;32m~/Documents/FIAP/conceitos_ia/venv/lib/python3.8/site-packages/pandas/core/reshape/pivot.py:661\u001b[0m, in \u001b[0;36mcrosstab\u001b[0;34m(index, columns, values, rownames, colnames, aggfunc, margins, margins_name, dropna, normalize)\u001b[0m\n\u001b[1;32m    655\u001b[0m \u001b[39mfrom\u001b[39;00m \u001b[39mpandas\u001b[39;00m \u001b[39mimport\u001b[39;00m DataFrame\n\u001b[1;32m    657\u001b[0m data \u001b[39m=\u001b[39m {\n\u001b[1;32m    658\u001b[0m     \u001b[39m*\u001b[39m\u001b[39m*\u001b[39m\u001b[39mdict\u001b[39m(\u001b[39mzip\u001b[39m(unique_rownames, index)),\n\u001b[1;32m    659\u001b[0m     \u001b[39m*\u001b[39m\u001b[39m*\u001b[39m\u001b[39mdict\u001b[39m(\u001b[39mzip\u001b[39m(unique_colnames, columns)),\n\u001b[1;32m    660\u001b[0m }\n\u001b[0;32m--> 661\u001b[0m df \u001b[39m=\u001b[39m DataFrame(data, index\u001b[39m=\u001b[39;49mcommon_idx)\n\u001b[1;32m    663\u001b[0m \u001b[39mif\u001b[39;00m values \u001b[39mis\u001b[39;00m \u001b[39mNone\u001b[39;00m:\n\u001b[1;32m    664\u001b[0m     df[\u001b[39m\"\u001b[39m\u001b[39m__dummy__\u001b[39m\u001b[39m\"\u001b[39m] \u001b[39m=\u001b[39m \u001b[39m0\u001b[39m\n",
      "File \u001b[0;32m~/Documents/FIAP/conceitos_ia/venv/lib/python3.8/site-packages/pandas/core/frame.py:636\u001b[0m, in \u001b[0;36mDataFrame.__init__\u001b[0;34m(self, data, index, columns, dtype, copy)\u001b[0m\n\u001b[1;32m    630\u001b[0m     mgr \u001b[39m=\u001b[39m \u001b[39mself\u001b[39m\u001b[39m.\u001b[39m_init_mgr(\n\u001b[1;32m    631\u001b[0m         data, axes\u001b[39m=\u001b[39m{\u001b[39m\"\u001b[39m\u001b[39mindex\u001b[39m\u001b[39m\"\u001b[39m: index, \u001b[39m\"\u001b[39m\u001b[39mcolumns\u001b[39m\u001b[39m\"\u001b[39m: columns}, dtype\u001b[39m=\u001b[39mdtype, copy\u001b[39m=\u001b[39mcopy\n\u001b[1;32m    632\u001b[0m     )\n\u001b[1;32m    634\u001b[0m \u001b[39melif\u001b[39;00m \u001b[39misinstance\u001b[39m(data, \u001b[39mdict\u001b[39m):\n\u001b[1;32m    635\u001b[0m     \u001b[39m# GH#38939 de facto copy defaults to False only in non-dict cases\u001b[39;00m\n\u001b[0;32m--> 636\u001b[0m     mgr \u001b[39m=\u001b[39m dict_to_mgr(data, index, columns, dtype\u001b[39m=\u001b[39;49mdtype, copy\u001b[39m=\u001b[39;49mcopy, typ\u001b[39m=\u001b[39;49mmanager)\n\u001b[1;32m    637\u001b[0m \u001b[39melif\u001b[39;00m \u001b[39misinstance\u001b[39m(data, ma\u001b[39m.\u001b[39mMaskedArray):\n\u001b[1;32m    638\u001b[0m     \u001b[39mimport\u001b[39;00m \u001b[39mnumpy\u001b[39;00m\u001b[39m.\u001b[39;00m\u001b[39mma\u001b[39;00m\u001b[39m.\u001b[39;00m\u001b[39mmrecords\u001b[39;00m \u001b[39mas\u001b[39;00m \u001b[39mmrecords\u001b[39;00m\n",
      "File \u001b[0;32m~/Documents/FIAP/conceitos_ia/venv/lib/python3.8/site-packages/pandas/core/internals/construction.py:502\u001b[0m, in \u001b[0;36mdict_to_mgr\u001b[0;34m(data, index, columns, dtype, typ, copy)\u001b[0m\n\u001b[1;32m    494\u001b[0m     arrays \u001b[39m=\u001b[39m [\n\u001b[1;32m    495\u001b[0m         x\n\u001b[1;32m    496\u001b[0m         \u001b[39mif\u001b[39;00m \u001b[39mnot\u001b[39;00m \u001b[39mhasattr\u001b[39m(x, \u001b[39m\"\u001b[39m\u001b[39mdtype\u001b[39m\u001b[39m\"\u001b[39m) \u001b[39mor\u001b[39;00m \u001b[39mnot\u001b[39;00m \u001b[39misinstance\u001b[39m(x\u001b[39m.\u001b[39mdtype, ExtensionDtype)\n\u001b[1;32m    497\u001b[0m         \u001b[39melse\u001b[39;00m x\u001b[39m.\u001b[39mcopy()\n\u001b[1;32m    498\u001b[0m         \u001b[39mfor\u001b[39;00m x \u001b[39min\u001b[39;00m arrays\n\u001b[1;32m    499\u001b[0m     ]\n\u001b[1;32m    500\u001b[0m     \u001b[39m# TODO: can we get rid of the dt64tz special case above?\u001b[39;00m\n\u001b[0;32m--> 502\u001b[0m \u001b[39mreturn\u001b[39;00m arrays_to_mgr(arrays, columns, index, dtype\u001b[39m=\u001b[39;49mdtype, typ\u001b[39m=\u001b[39;49mtyp, consolidate\u001b[39m=\u001b[39;49mcopy)\n",
      "File \u001b[0;32m~/Documents/FIAP/conceitos_ia/venv/lib/python3.8/site-packages/pandas/core/internals/construction.py:120\u001b[0m, in \u001b[0;36marrays_to_mgr\u001b[0;34m(arrays, columns, index, dtype, verify_integrity, typ, consolidate)\u001b[0m\n\u001b[1;32m    117\u001b[0m \u001b[39mif\u001b[39;00m verify_integrity:\n\u001b[1;32m    118\u001b[0m     \u001b[39m# figure out the index, if necessary\u001b[39;00m\n\u001b[1;32m    119\u001b[0m     \u001b[39mif\u001b[39;00m index \u001b[39mis\u001b[39;00m \u001b[39mNone\u001b[39;00m:\n\u001b[0;32m--> 120\u001b[0m         index \u001b[39m=\u001b[39m _extract_index(arrays)\n\u001b[1;32m    121\u001b[0m     \u001b[39melse\u001b[39;00m:\n\u001b[1;32m    122\u001b[0m         index \u001b[39m=\u001b[39m ensure_index(index)\n",
      "File \u001b[0;32m~/Documents/FIAP/conceitos_ia/venv/lib/python3.8/site-packages/pandas/core/internals/construction.py:674\u001b[0m, in \u001b[0;36m_extract_index\u001b[0;34m(data)\u001b[0m\n\u001b[1;32m    672\u001b[0m lengths \u001b[39m=\u001b[39m \u001b[39mlist\u001b[39m(\u001b[39mset\u001b[39m(raw_lengths))\n\u001b[1;32m    673\u001b[0m \u001b[39mif\u001b[39;00m \u001b[39mlen\u001b[39m(lengths) \u001b[39m>\u001b[39m \u001b[39m1\u001b[39m:\n\u001b[0;32m--> 674\u001b[0m     \u001b[39mraise\u001b[39;00m \u001b[39mValueError\u001b[39;00m(\u001b[39m\"\u001b[39m\u001b[39mAll arrays must be of the same length\u001b[39m\u001b[39m\"\u001b[39m)\n\u001b[1;32m    676\u001b[0m \u001b[39mif\u001b[39;00m have_dicts:\n\u001b[1;32m    677\u001b[0m     \u001b[39mraise\u001b[39;00m \u001b[39mValueError\u001b[39;00m(\n\u001b[1;32m    678\u001b[0m         \u001b[39m\"\u001b[39m\u001b[39mMixing dicts with non-Series may lead to ambiguous ordering.\u001b[39m\u001b[39m\"\u001b[39m\n\u001b[1;32m    679\u001b[0m     )\n",
      "\u001b[0;31mValueError\u001b[0m: All arrays must be of the same length"
     ]
    }
   ],
   "source": [
    "table = pd.crosstab(df.index, df.columns, margins=True)\n",
    "\n",
    "table"
   ]
  },
  {
   "cell_type": "code",
   "execution_count": 1,
   "metadata": {},
   "outputs": [],
   "source": [
    "from scipy.stats import chi2_contingency\n",
    "from scipy.stats import chi2"
   ]
  },
  {
   "cell_type": "code",
   "execution_count": 2,
   "metadata": {},
   "outputs": [
    {
     "name": "stdout",
     "output_type": "stream",
     "text": [
      "******************** Graus de Liberdade ********************\n"
     ]
    },
    {
     "ename": "NameError",
     "evalue": "name 'dof' is not defined",
     "output_type": "error",
     "traceback": [
      "\u001b[0;31m---------------------------------------------------------------------------\u001b[0m",
      "\u001b[0;31mNameError\u001b[0m                                 Traceback (most recent call last)",
      "Cell \u001b[0;32mIn [2], line 2\u001b[0m\n\u001b[1;32m      1\u001b[0m \u001b[38;5;28mprint\u001b[39m(\u001b[38;5;124mf\u001b[39m\u001b[38;5;124m\"\u001b[39m\u001b[38;5;132;01m{\u001b[39;00m\u001b[38;5;124m'\u001b[39m\u001b[38;5;124m*\u001b[39m\u001b[38;5;124m'\u001b[39m\u001b[38;5;241m*\u001b[39m\u001b[38;5;241m20\u001b[39m\u001b[38;5;132;01m}\u001b[39;00m\u001b[38;5;124m Graus de Liberdade \u001b[39m\u001b[38;5;132;01m{\u001b[39;00m\u001b[38;5;124m'\u001b[39m\u001b[38;5;124m*\u001b[39m\u001b[38;5;124m'\u001b[39m\u001b[38;5;241m*\u001b[39m\u001b[38;5;241m20\u001b[39m\u001b[38;5;132;01m}\u001b[39;00m\u001b[38;5;124m\"\u001b[39m)\n\u001b[0;32m----> 2\u001b[0m \u001b[38;5;28mprint\u001b[39m(\u001b[38;5;124mf\u001b[39m\u001b[38;5;124m\"\u001b[39m\u001b[38;5;124mGraus de liberdade: dof=\u001b[39m\u001b[38;5;132;01m{\u001b[39;00mdof\u001b[38;5;132;01m}\u001b[39;00m\u001b[38;5;124m\"\u001b[39m)\n\u001b[1;32m      4\u001b[0m \u001b[38;5;28mprint\u001b[39m()\n\u001b[1;32m      6\u001b[0m \u001b[38;5;28mprint\u001b[39m(\u001b[38;5;124m\"\u001b[39m\u001b[38;5;124mTabela Esperada:\u001b[39m\u001b[38;5;124m\"\u001b[39m)\n",
      "\u001b[0;31mNameError\u001b[0m: name 'dof' is not defined"
     ]
    }
   ],
   "source": [
    "print(f\"{'*'*20} Graus de Liberdade {'*'*20}\")\n",
    "print(f\"Graus de liberdade: dof={dof}\")\n",
    "\n",
    "print()\n",
    "\n",
    "print(\"Tabela Esperada:\")\n",
    "print(expected)\n",
    "\n",
    "# interpret test-statistic\n",
    "print(f\"{'*'*15} Interpretação Testes Estatísticos {'*'*15}\")\n",
    "prob = 0.95\n",
    "critical = chi2.ppf(prob, dof)\n",
    "\n",
    "print(f\"Probability={prob}\\nCritical={critical}\\nStat={stat}\")\n",
    "\n",
    "if abs(stat) >= critical:\n",
    "\tprint(\"Dependent (reject H0)\")\n",
    "else:\n",
    "\tprint(\"Independent (fail to reject H0)\")\n",
    "\n",
    "# interpret p-value\n",
    "print(f\"{'*'*20} Interpretação do p-value {'*'*20}\")\n",
    "alpha = 1.0 - prob\n",
    "print(f\"significance={alpha}\\np={p}\")\n",
    "\n",
    "if p <= alpha:\n",
    "\tprint(\"Dependent (reject H0)\")\n",
    "else:\n",
    "\tprint(\"Independent (fail to reject H0)\")"
   ]
  },
  {
   "cell_type": "code",
   "execution_count": null,
   "metadata": {},
   "outputs": [],
   "source": []
  }
 ],
 "metadata": {
  "kernelspec": {
   "display_name": "Python 3.8.10 ('venv': venv)",
   "language": "python",
   "name": "python3"
  },
  "language_info": {
   "codemirror_mode": {
    "name": "ipython",
    "version": 3
   },
   "file_extension": ".py",
   "mimetype": "text/x-python",
   "name": "python",
   "nbconvert_exporter": "python",
   "pygments_lexer": "ipython3",
   "version": "3.8.10"
  },
  "orig_nbformat": 4,
  "vscode": {
   "interpreter": {
    "hash": "d5fe847d95f92cd994739f56747143923054ce23e745ebfc8c5012f59938594b"
   }
  }
 },
 "nbformat": 4,
 "nbformat_minor": 2
}
